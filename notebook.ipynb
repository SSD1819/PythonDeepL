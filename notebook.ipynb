{
 "cells": [
  {
   "cell_type": "markdown",
   "metadata": {},
   "source": [
    "Packages dont nous allons nous servir"
   ]
  },
  {
   "cell_type": "code",
   "execution_count": 6,
   "metadata": {},
   "outputs": [],
   "source": [
    "import pandas as pd\n",
    "import os"
   ]
  },
  {
   "cell_type": "markdown",
   "metadata": {},
   "source": [
    " ## 1. Importation et nettoyage de nos données"
   ]
  },
  {
   "cell_type": "markdown",
   "metadata": {},
   "source": [
    "Chemin de travail"
   ]
  },
  {
   "cell_type": "code",
   "execution_count": 7,
   "metadata": {},
   "outputs": [],
   "source": [
    "os.chdir(\"C:/Users/TEMP.GROIZY.005/Desktop/UGA/M1 SSD/S8/python/projet\")"
   ]
  },
  {
   "cell_type": "markdown",
   "metadata": {},
   "source": [
    "### 1.1. Importation de nos données"
   ]
  },
  {
   "cell_type": "code",
   "execution_count": 8,
   "metadata": {},
   "outputs": [],
   "source": [
    "train = pd.read_csv(\"data/train.csv\")\n",
    "test = pd.read_csv(\"data/test.csv\")\n",
    "sample = pd.read_csv(\"data/sample_submission.csv\")"
   ]
  },
  {
   "cell_type": "markdown",
   "metadata": {},
   "source": [
    "### 1.2. Nettoyage de nos données"
   ]
  },
  {
   "cell_type": "markdown",
   "metadata": {},
   "source": [
    "Suppression des variables que nous ne jugeons pas utiles"
   ]
  },
  {
   "cell_type": "code",
   "execution_count": 9,
   "metadata": {},
   "outputs": [],
   "source": [
    "train = train.drop(['belongs_to_collection','homepage','imdb_id','overview','poster_path','status','tagline'],axis=1,errors='ignore')\n",
    "test = test.drop(['belongs_to_collection','homepage','imdb_id','overview','poster_path','status','tagline'],axis=1,errors='ignore')"
   ]
  },
  {
   "cell_type": "markdown",
   "metadata": {},
   "source": [
    "#### 1.2.1. Mise en forme des variables qui sont des espèces de listes"
   ]
  },
  {
   "cell_type": "code",
   "execution_count": 12,
   "metadata": {},
   "outputs": [],
   "source": [
    "trainClean = train\n",
    "testClean = test"
   ]
  },
  {
   "cell_type": "markdown",
   "metadata": {},
   "source": [
    "Fonction qui sert à retourner un objet s'il correspond à quelquechose et {} sinon"
   ]
  },
  {
   "cell_type": "code",
   "execution_count": 10,
   "metadata": {},
   "outputs": [],
   "source": [
    "def get_dictionary(s):\n",
    "    try:\n",
    "        d = eval(s)\n",
    "    except:\n",
    "        d = {}\n",
    "    return d"
   ]
  },
  {
   "cell_type": "markdown",
   "metadata": {},
   "source": [
    "Variable genres (mise en forme)"
   ]
  },
  {
   "cell_type": "code",
   "execution_count": 13,
   "metadata": {},
   "outputs": [],
   "source": [
    "trainClean['genres'] = trainClean['genres'].map(lambda x: sorted([d['name'] for d in get_dictionary(x)])).map(lambda x: ','.join(map(str, x)))\n",
    "testClean['genres'] = testClean['genres'].map(lambda x: sorted([d['name'] for d in get_dictionary(x)])).map(lambda x: ','.join(map(str, x)))"
   ]
  },
  {
   "cell_type": "markdown",
   "metadata": {},
   "source": [
    "Compagnie de production"
   ]
  },
  {
   "cell_type": "code",
   "execution_count": 14,
   "metadata": {},
   "outputs": [],
   "source": [
    "trainClean['production_companies'] = trainClean['production_companies'].map(lambda x: sorted([d['name'] for d in get_dictionary(x)])).map(lambda x: ','.join(map(str, x)))\n",
    "testClean['production_companies'] = testClean['production_companies'].map(lambda x: sorted([d['name'] for d in get_dictionary(x)])).map(lambda x: ','.join(map(str, x)))"
   ]
  },
  {
   "cell_type": "markdown",
   "metadata": {},
   "source": [
    "Pays de production"
   ]
  },
  {
   "cell_type": "code",
   "execution_count": 15,
   "metadata": {},
   "outputs": [],
   "source": [
    "trainClean['production_countries'] = trainClean['production_countries'].map(lambda x: sorted([d['name'] for d in get_dictionary(x)])).map(lambda x: ','.join(map(str, x)))\n",
    "testClean['production_countries'] = testClean['production_countries'].map(lambda x: sorted([d['name'] for d in get_dictionary(x)])).map(lambda x: ','.join(map(str, x)))"
   ]
  },
  {
   "cell_type": "markdown",
   "metadata": {},
   "source": [
    "Langues parlées"
   ]
  },
  {
   "cell_type": "code",
   "execution_count": 16,
   "metadata": {},
   "outputs": [],
   "source": [
    "trainClean['spoken_languages'] = trainClean['spoken_languages'].map(lambda x: sorted([d['name'] for d in get_dictionary(x)])).map(lambda x: ','.join(map(str, x)))\n",
    "testClean['spoken_languages'] = testClean['spoken_languages'].map(lambda x: sorted([d['name'] for d in get_dictionary(x)])).map(lambda x: ','.join(map(str, x)))"
   ]
  },
  {
   "cell_type": "markdown",
   "metadata": {},
   "source": [
    "Mots clefs"
   ]
  },
  {
   "cell_type": "code",
   "execution_count": 17,
   "metadata": {},
   "outputs": [],
   "source": [
    "trainClean['Keywords'] = trainClean['Keywords'].map(lambda x: sorted([d['name'] for d in get_dictionary(x)])).map(lambda x: ','.join(map(str, x)))\n",
    "testClean['Keywords'] = testClean['Keywords'].map(lambda x: sorted([d['name'] for d in get_dictionary(x)])).map(lambda x: ','.join(map(str, x)))"
   ]
  },
  {
   "cell_type": "markdown",
   "metadata": {},
   "source": [
    "#### 1.2.2. Création de tableaux disjonctifs complets\n",
    "\n",
    "Nous avons créé des tableaux disjonctifs complets à partir des variables \"listes\" qui ont plusieur réponses (par exemple, certains films ont plusieur langues parlées)"
   ]
  },
  {
   "cell_type": "code",
   "execution_count": 18,
   "metadata": {},
   "outputs": [],
   "source": [
    "#genre\n",
    "trainGenres = trainClean.genres.str.get_dummies(sep=',')\n",
    "testGenres = testClean.genres.str.get_dummies(sep=',')\n",
    "\n",
    "#compagnie de production\n",
    "trainProdComp = trainClean.production_companies.str.get_dummies(sep=',')\n",
    "testProdComp = testClean.production_companies.str.get_dummies(sep=',')\n",
    "\n",
    "#pays de production\n",
    "trainProdPays = trainClean.production_countries.str.get_dummies(sep=',')\n",
    "testProdPays = testClean.production_countries.str.get_dummies(sep=',')\n",
    "\n",
    "#langues parlées\n",
    "trainLang = trainClean.spoken_languages.str.get_dummies(sep=',')\n",
    "testLang = testClean.spoken_languages.str.get_dummies(sep=',')"
   ]
  },
  {
   "cell_type": "markdown",
   "metadata": {},
   "source": [
    "#### 1.2.3. Concaténation de nos tableaux disjonctifs complets\n",
    "\n",
    "Ainsi nous obtenenons nos datasets finaux composés des tableaux disjonctifs complets et des autres variables (qui n'étaient pas des \"listes\")"
   ]
  },
  {
   "cell_type": "code",
   "execution_count": 19,
   "metadata": {},
   "outputs": [],
   "source": [
    "###Concatenation de nos donnees (compagnie de production pas mise en tableau disjonctif pour l'instant)\n",
    "trainSamp = pd.concat([trainClean, trainGenres, trainProdPays, trainLang], axis=1)\n",
    "testSamp = pd.concat([testClean, testGenres, testProdPays, testLang], axis=1)\n",
    "\n",
    "#Suppression des variables en trop (remplacées par des tableaux disjonctifs)\n",
    "trainSamp = trainSamp.drop(['genres','production_countries','spoken_languages','Keywords'],axis=1,errors='ignore')\n",
    "testSamp = testSamp.drop(['genres','production_countries','spoken_languages','Keywords'],axis=1,errors='ignore')"
   ]
  },
  {
   "cell_type": "code",
   "execution_count": null,
   "metadata": {},
   "outputs": [],
   "source": []
  }
 ],
 "metadata": {
  "kernelspec": {
   "display_name": "Python 3",
   "language": "python",
   "name": "python3"
  },
  "language_info": {
   "codemirror_mode": {
    "name": "ipython",
    "version": 3
   },
   "file_extension": ".py",
   "mimetype": "text/x-python",
   "name": "python",
   "nbconvert_exporter": "python",
   "pygments_lexer": "ipython3",
   "version": "3.7.2"
  }
 },
 "nbformat": 4,
 "nbformat_minor": 2
}
